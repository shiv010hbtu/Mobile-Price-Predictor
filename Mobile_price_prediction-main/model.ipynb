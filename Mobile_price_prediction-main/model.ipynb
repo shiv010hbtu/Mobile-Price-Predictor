{
 "cells": [
  {
   "cell_type": "code",
   "execution_count": 44,
   "id": "86efca6d-f94e-4b40-a6eb-3e18a082236f",
   "metadata": {},
   "outputs": [],
   "source": [
    "# Standard imports\n",
    "import numpy as np\n",
    "import pandas as pd\n",
    "import matplotlib.pyplot as plt\n"
   ]
  },
  {
   "cell_type": "code",
   "execution_count": 45,
   "id": "3fa0264a-c374-40ec-ba86-f0d62d76f236",
   "metadata": {},
   "outputs": [],
   "source": [
    "# Getting our data ready for testing the model\n",
    "data = pd.read_csv('data/train.csv')\n",
    "x_train = data.drop('price_range',axis = 1)\n",
    "y_train = data['price_range']"
   ]
  },
  {
   "cell_type": "code",
   "execution_count": 46,
   "id": "10649604-c91d-4dec-a8be-62faa78ad03b",
   "metadata": {},
   "outputs": [],
   "source": [
    "# Choosing the right estimator for our data\n",
    "from sklearn.ensemble import RandomForestRegressor\n",
    "model = RandomForestRegressor()"
   ]
  },
  {
   "cell_type": "code",
   "execution_count": 47,
   "id": "6632a117-0ed0-4780-9992-3b04cdf01a7d",
   "metadata": {},
   "outputs": [],
   "source": [
    "# Fitting the model to the estimator\n",
    "model.fit(x_train,y_train);"
   ]
  },
  {
   "cell_type": "code",
   "execution_count": 48,
   "id": "15ed8b01-16c0-4343-a404-89b305a9423a",
   "metadata": {},
   "outputs": [],
   "source": [
    "# getting data ready for testing\n",
    "test_data = pd.read_csv('data/test.csv').drop('id',axis=1)"
   ]
  },
  {
   "cell_type": "code",
   "execution_count": 49,
   "id": "f795cb1d-02c0-43d1-bc92-b4169473f20a",
   "metadata": {},
   "outputs": [],
   "source": [
    "# Predicting the price of the mobile\n",
    "predicted_price = model.predict(test_data)"
   ]
  },
  {
   "cell_type": "code",
   "execution_count": 50,
   "id": "8d56d3be-a81e-47fe-aed2-4e9ea30add18",
   "metadata": {},
   "outputs": [
    {
     "data": {
      "text/plain": [
       "1.0"
      ]
     },
     "execution_count": 50,
     "metadata": {},
     "output_type": "execute_result"
    }
   ],
   "source": [
    "# Scoring our model\n",
    "model.score(test_data,predicted_price)"
   ]
  },
  {
   "cell_type": "code",
   "execution_count": 53,
   "id": "d29aa358-525c-46fa-bde7-0dd0647e85bc",
   "metadata": {},
   "outputs": [],
   "source": [
    "# Saving our model using pickle\n",
    "import pickle\n",
    "pickle.dump(model,open('saved_model.pkl','wb'))"
   ]
  },
  {
   "cell_type": "code",
   "execution_count": 54,
   "id": "e5d2e8b1-8f6c-48c1-8d76-38ada9d83734",
   "metadata": {},
   "outputs": [],
   "source": [
    "# Loading our model and reusing it to predict the values\n",
    "loaded_model = pickle.load(open('saved_model.pkl','rb'))"
   ]
  },
  {
   "cell_type": "code",
   "execution_count": 63,
   "id": "e47def2b-8faf-4e33-abcf-9be975b6f941",
   "metadata": {},
   "outputs": [],
   "source": [
    "# Predicting the price of the phone\n",
    "pred_price = loaded_model.predict(test_data)"
   ]
  },
  {
   "cell_type": "code",
   "execution_count": 65,
   "id": "739b6c08-a25a-421d-a521-d3835ecf8733",
   "metadata": {},
   "outputs": [
    {
     "data": {
      "text/plain": [
       "1.0"
      ]
     },
     "execution_count": 65,
     "metadata": {},
     "output_type": "execute_result"
    }
   ],
   "source": [
    "# Again checking the score of the model\n",
    "loaded_model.score(test_data,pred_price)"
   ]
  },
  {
   "cell_type": "code",
   "execution_count": null,
   "id": "c5e51f6e-6d75-43a0-8223-7519dcb878d7",
   "metadata": {},
   "outputs": [],
   "source": []
  }
 ],
 "metadata": {
  "kernelspec": {
   "display_name": "Python 3 (ipykernel)",
   "language": "python",
   "name": "python3"
  },
  "language_info": {
   "codemirror_mode": {
    "name": "ipython",
    "version": 3
   },
   "file_extension": ".py",
   "mimetype": "text/x-python",
   "name": "python",
   "nbconvert_exporter": "python",
   "pygments_lexer": "ipython3",
   "version": "3.12.0"
  }
 },
 "nbformat": 4,
 "nbformat_minor": 5
}
